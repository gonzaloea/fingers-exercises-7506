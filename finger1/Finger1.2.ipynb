{
 "cells": [
  {
   "cell_type": "markdown",
   "metadata": {},
   "source": [
    "# Finger 1 - Punto 2"
   ]
  },
  {
   "cell_type": "markdown",
   "metadata": {},
   "source": [
    "# Seteo inicial"
   ]
  },
  {
   "cell_type": "code",
   "execution_count": 1,
   "metadata": {},
   "outputs": [],
   "source": [
    "import pandas as pd\n",
    "import numpy as np\n",
    "import matplotlib.pyplot as plt\n",
    "import seaborn as sns\n",
    "\n",
    "%matplotlib inline\n",
    "\n",
    "plt.style.use('default')\n",
    "\n",
    "sns.set(style=\"whitegrid\")\n",
    "\n",
    "import warnings \n",
    "warnings.filterwarnings('ignore')"
   ]
  },
  {
   "cell_type": "code",
   "execution_count": 7,
   "metadata": {},
   "outputs": [],
   "source": [
    "clicks = pd.read_csv('./Data/clicks.csv.gzip', compression = 'gzip')"
   ]
  },
  {
   "cell_type": "code",
   "execution_count": 8,
   "metadata": {},
   "outputs": [],
   "source": [
    "clicks.loc[:,'created'] = pd.to_datetime(clicks['created'], errors='coerce')"
   ]
  },
  {
   "cell_type": "code",
   "execution_count": 9,
   "metadata": {},
   "outputs": [
    {
     "data": {
      "text/plain": [
       "advertiser_id                    int64\n",
       "action_id                      float64\n",
       "source_id                        int64\n",
       "created            datetime64[ns, UTC]\n",
       "country_code                     int64\n",
       "latitude                       float64\n",
       "longitude                      float64\n",
       "wifi_connection                   bool\n",
       "carrier_id                     float64\n",
       "trans_id                        object\n",
       "os_minor                       float64\n",
       "agent_device                   float64\n",
       "os_major                       float64\n",
       "specs_brand                      int64\n",
       "brand                          float64\n",
       "timeToClick                    float64\n",
       "touchX                         float64\n",
       "touchY                         float64\n",
       "ref_type                         int64\n",
       "ref_hash                         int64\n",
       "dtype: object"
      ]
     },
     "execution_count": 9,
     "metadata": {},
     "output_type": "execute_result"
    }
   ],
   "source": [
    "clicks.dtypes"
   ]
  },
  {
   "cell_type": "markdown",
   "metadata": {},
   "source": [
    "## Creo columna nueva solo con hora y minutos"
   ]
  },
  {
   "cell_type": "code",
   "execution_count": 17,
   "metadata": {},
   "outputs": [],
   "source": [
    "clicks['created_time'] =clicks['created'].dt.time.map(lambda x: x.replace(second=0, microsecond = 0)) "
   ]
  },
  {
   "cell_type": "code",
   "execution_count": 18,
   "metadata": {},
   "outputs": [
    {
     "data": {
      "text/html": [
       "<div>\n",
       "<style scoped>\n",
       "    .dataframe tbody tr th:only-of-type {\n",
       "        vertical-align: middle;\n",
       "    }\n",
       "\n",
       "    .dataframe tbody tr th {\n",
       "        vertical-align: top;\n",
       "    }\n",
       "\n",
       "    .dataframe thead th {\n",
       "        text-align: right;\n",
       "    }\n",
       "</style>\n",
       "<table border=\"1\" class=\"dataframe\">\n",
       "  <thead>\n",
       "    <tr style=\"text-align: right;\">\n",
       "      <th></th>\n",
       "      <th>advertiser_id</th>\n",
       "      <th>action_id</th>\n",
       "      <th>source_id</th>\n",
       "      <th>created</th>\n",
       "      <th>country_code</th>\n",
       "      <th>latitude</th>\n",
       "      <th>longitude</th>\n",
       "      <th>wifi_connection</th>\n",
       "      <th>carrier_id</th>\n",
       "      <th>trans_id</th>\n",
       "      <th>...</th>\n",
       "      <th>agent_device</th>\n",
       "      <th>os_major</th>\n",
       "      <th>specs_brand</th>\n",
       "      <th>brand</th>\n",
       "      <th>timeToClick</th>\n",
       "      <th>touchX</th>\n",
       "      <th>touchY</th>\n",
       "      <th>ref_type</th>\n",
       "      <th>ref_hash</th>\n",
       "      <th>created_time</th>\n",
       "    </tr>\n",
       "  </thead>\n",
       "  <tbody>\n",
       "    <tr>\n",
       "      <th>0</th>\n",
       "      <td>2</td>\n",
       "      <td>NaN</td>\n",
       "      <td>4</td>\n",
       "      <td>2019-03-06 22:42:12.755000+00:00</td>\n",
       "      <td>6333597102633388268</td>\n",
       "      <td>1.205689</td>\n",
       "      <td>1.070234</td>\n",
       "      <td>False</td>\n",
       "      <td>1.0</td>\n",
       "      <td>iGgClCM9exiHF4K31g94XmvHEBSLKIY</td>\n",
       "      <td>...</td>\n",
       "      <td>NaN</td>\n",
       "      <td>3.072849e+18</td>\n",
       "      <td>2733035977666442898</td>\n",
       "      <td>NaN</td>\n",
       "      <td>1.563</td>\n",
       "      <td>0.905</td>\n",
       "      <td>0.078</td>\n",
       "      <td>1891515180541284343</td>\n",
       "      <td>1904083516767779093</td>\n",
       "      <td>22:42:00</td>\n",
       "    </tr>\n",
       "    <tr>\n",
       "      <th>1</th>\n",
       "      <td>0</td>\n",
       "      <td>NaN</td>\n",
       "      <td>0</td>\n",
       "      <td>2019-03-08 10:24:30.641000+00:00</td>\n",
       "      <td>6333597102633388268</td>\n",
       "      <td>1.218924</td>\n",
       "      <td>1.071209</td>\n",
       "      <td>False</td>\n",
       "      <td>4.0</td>\n",
       "      <td>MMHTOJ6qKAOeIH_Eywh1KIcCaxtO9oM</td>\n",
       "      <td>...</td>\n",
       "      <td>NaN</td>\n",
       "      <td>1.774085e+18</td>\n",
       "      <td>392184377613098015</td>\n",
       "      <td>NaN</td>\n",
       "      <td>NaN</td>\n",
       "      <td>NaN</td>\n",
       "      <td>NaN</td>\n",
       "      <td>1891515180541284343</td>\n",
       "      <td>3086509764961796666</td>\n",
       "      <td>10:24:00</td>\n",
       "    </tr>\n",
       "    <tr>\n",
       "      <th>2</th>\n",
       "      <td>0</td>\n",
       "      <td>NaN</td>\n",
       "      <td>0</td>\n",
       "      <td>2019-03-08 15:24:16.069000+00:00</td>\n",
       "      <td>6333597102633388268</td>\n",
       "      <td>1.205689</td>\n",
       "      <td>1.070234</td>\n",
       "      <td>False</td>\n",
       "      <td>6.0</td>\n",
       "      <td>vIrEIdf9izUaWdAri6Ezk7T3nHFvNQU</td>\n",
       "      <td>...</td>\n",
       "      <td>NaN</td>\n",
       "      <td>3.072849e+18</td>\n",
       "      <td>392184377613098015</td>\n",
       "      <td>NaN</td>\n",
       "      <td>NaN</td>\n",
       "      <td>0.946</td>\n",
       "      <td>0.473</td>\n",
       "      <td>1891515180541284343</td>\n",
       "      <td>6958163894863846647</td>\n",
       "      <td>15:24:00</td>\n",
       "    </tr>\n",
       "    <tr>\n",
       "      <th>3</th>\n",
       "      <td>2</td>\n",
       "      <td>NaN</td>\n",
       "      <td>3</td>\n",
       "      <td>2019-03-06 03:08:51.543000+00:00</td>\n",
       "      <td>6333597102633388268</td>\n",
       "      <td>1.205689</td>\n",
       "      <td>1.070234</td>\n",
       "      <td>False</td>\n",
       "      <td>45.0</td>\n",
       "      <td>YaKxxEAs2UmZhSpRfiCO9Zpa82B_AKM</td>\n",
       "      <td>...</td>\n",
       "      <td>NaN</td>\n",
       "      <td>3.072849e+18</td>\n",
       "      <td>2733035977666442898</td>\n",
       "      <td>NaN</td>\n",
       "      <td>19.013</td>\n",
       "      <td>0.035</td>\n",
       "      <td>0.431</td>\n",
       "      <td>1891515180541284343</td>\n",
       "      <td>4368617728156436525</td>\n",
       "      <td>03:08:00</td>\n",
       "    </tr>\n",
       "    <tr>\n",
       "      <th>4</th>\n",
       "      <td>2</td>\n",
       "      <td>NaN</td>\n",
       "      <td>3</td>\n",
       "      <td>2019-03-06 03:32:55.570000+00:00</td>\n",
       "      <td>6333597102633388268</td>\n",
       "      <td>1.205689</td>\n",
       "      <td>1.070234</td>\n",
       "      <td>False</td>\n",
       "      <td>45.0</td>\n",
       "      <td>X5XTOcYQovkl6yadYdAD7xioVGU9jiY</td>\n",
       "      <td>...</td>\n",
       "      <td>NaN</td>\n",
       "      <td>3.072849e+18</td>\n",
       "      <td>2733035977666442898</td>\n",
       "      <td>NaN</td>\n",
       "      <td>28.110</td>\n",
       "      <td>0.054</td>\n",
       "      <td>0.423</td>\n",
       "      <td>1891515180541284343</td>\n",
       "      <td>4368617728156436525</td>\n",
       "      <td>03:32:00</td>\n",
       "    </tr>\n",
       "  </tbody>\n",
       "</table>\n",
       "<p>5 rows × 21 columns</p>\n",
       "</div>"
      ],
      "text/plain": [
       "   advertiser_id  action_id  source_id                          created  \\\n",
       "0              2        NaN          4 2019-03-06 22:42:12.755000+00:00   \n",
       "1              0        NaN          0 2019-03-08 10:24:30.641000+00:00   \n",
       "2              0        NaN          0 2019-03-08 15:24:16.069000+00:00   \n",
       "3              2        NaN          3 2019-03-06 03:08:51.543000+00:00   \n",
       "4              2        NaN          3 2019-03-06 03:32:55.570000+00:00   \n",
       "\n",
       "          country_code  latitude  longitude  wifi_connection  carrier_id  \\\n",
       "0  6333597102633388268  1.205689   1.070234            False         1.0   \n",
       "1  6333597102633388268  1.218924   1.071209            False         4.0   \n",
       "2  6333597102633388268  1.205689   1.070234            False         6.0   \n",
       "3  6333597102633388268  1.205689   1.070234            False        45.0   \n",
       "4  6333597102633388268  1.205689   1.070234            False        45.0   \n",
       "\n",
       "                          trans_id  ...  agent_device      os_major  \\\n",
       "0  iGgClCM9exiHF4K31g94XmvHEBSLKIY  ...           NaN  3.072849e+18   \n",
       "1  MMHTOJ6qKAOeIH_Eywh1KIcCaxtO9oM  ...           NaN  1.774085e+18   \n",
       "2  vIrEIdf9izUaWdAri6Ezk7T3nHFvNQU  ...           NaN  3.072849e+18   \n",
       "3  YaKxxEAs2UmZhSpRfiCO9Zpa82B_AKM  ...           NaN  3.072849e+18   \n",
       "4  X5XTOcYQovkl6yadYdAD7xioVGU9jiY  ...           NaN  3.072849e+18   \n",
       "\n",
       "           specs_brand  brand  timeToClick  touchX  touchY  \\\n",
       "0  2733035977666442898    NaN        1.563   0.905   0.078   \n",
       "1   392184377613098015    NaN          NaN     NaN     NaN   \n",
       "2   392184377613098015    NaN          NaN   0.946   0.473   \n",
       "3  2733035977666442898    NaN       19.013   0.035   0.431   \n",
       "4  2733035977666442898    NaN       28.110   0.054   0.423   \n",
       "\n",
       "              ref_type             ref_hash  created_time  \n",
       "0  1891515180541284343  1904083516767779093      22:42:00  \n",
       "1  1891515180541284343  3086509764961796666      10:24:00  \n",
       "2  1891515180541284343  6958163894863846647      15:24:00  \n",
       "3  1891515180541284343  4368617728156436525      03:08:00  \n",
       "4  1891515180541284343  4368617728156436525      03:32:00  \n",
       "\n",
       "[5 rows x 21 columns]"
      ]
     },
     "execution_count": 18,
     "metadata": {},
     "output_type": "execute_result"
    }
   ],
   "source": [
    "clicks.head()"
   ]
  },
  {
   "cell_type": "markdown",
   "metadata": {},
   "source": [
    "## Obtengo clicks por horario"
   ]
  },
  {
   "cell_type": "code",
   "execution_count": 51,
   "metadata": {},
   "outputs": [
    {
     "data": {
      "text/html": [
       "<div>\n",
       "<style scoped>\n",
       "    .dataframe tbody tr th:only-of-type {\n",
       "        vertical-align: middle;\n",
       "    }\n",
       "\n",
       "    .dataframe tbody tr th {\n",
       "        vertical-align: top;\n",
       "    }\n",
       "\n",
       "    .dataframe thead th {\n",
       "        text-align: right;\n",
       "    }\n",
       "</style>\n",
       "<table border=\"1\" class=\"dataframe\">\n",
       "  <thead>\n",
       "    <tr style=\"text-align: right;\">\n",
       "      <th></th>\n",
       "      <th>Cantidad de clicks</th>\n",
       "    </tr>\n",
       "    <tr>\n",
       "      <th>Hora</th>\n",
       "      <th></th>\n",
       "    </tr>\n",
       "  </thead>\n",
       "  <tbody>\n",
       "    <tr>\n",
       "      <th>00:00:00</th>\n",
       "      <td>34</td>\n",
       "    </tr>\n",
       "    <tr>\n",
       "      <th>00:01:00</th>\n",
       "      <td>16</td>\n",
       "    </tr>\n",
       "    <tr>\n",
       "      <th>00:02:00</th>\n",
       "      <td>20</td>\n",
       "    </tr>\n",
       "    <tr>\n",
       "      <th>00:03:00</th>\n",
       "      <td>15</td>\n",
       "    </tr>\n",
       "    <tr>\n",
       "      <th>00:04:00</th>\n",
       "      <td>8</td>\n",
       "    </tr>\n",
       "  </tbody>\n",
       "</table>\n",
       "</div>"
      ],
      "text/plain": [
       "          Cantidad de clicks\n",
       "Hora                        \n",
       "00:00:00                  34\n",
       "00:01:00                  16\n",
       "00:02:00                  20\n",
       "00:03:00                  15\n",
       "00:04:00                   8"
      ]
     },
     "execution_count": 51,
     "metadata": {},
     "output_type": "execute_result"
    }
   ],
   "source": [
    "clicks_by_time = clicks.groupby('created_time').agg({'created_time':['count']})\n",
    "clicks_by_time.columns = ['Cantidad de clicks']\n",
    "clicks_by_time.index.name = 'Hora'\n",
    "clicks_by_time.head()"
   ]
  },
  {
   "cell_type": "markdown",
   "metadata": {},
   "source": [
    "## Visualizacion de cantidad de clicks a lo largo del tiempo"
   ]
  },
  {
   "cell_type": "code",
   "execution_count": 54,
   "metadata": {},
   "outputs": [
    {
     "data": {
      "image/png": "[encoded data removed]",
      "text/plain": [
       "<Figure size 1440x432 with 1 Axes>"
      ]
     },
     "metadata": {
      "needs_background": "light"
     },
     "output_type": "display_data"
    }
   ],
   "source": [
    "clicks_by_time.plot(figsize=(20,6));"
   ]
  },
  {
   "cell_type": "code",
   "execution_count": 56,
   "metadata": {},
   "outputs": [
    {
     "data": {
      "text/html": [
       "<div>\n",
       "<style scoped>\n",
       "    .dataframe tbody tr th:only-of-type {\n",
       "        vertical-align: middle;\n",
       "    }\n",
       "\n",
       "    .dataframe tbody tr th {\n",
       "        vertical-align: top;\n",
       "    }\n",
       "\n",
       "    .dataframe thead th {\n",
       "        text-align: right;\n",
       "    }\n",
       "</style>\n",
       "<table border=\"1\" class=\"dataframe\">\n",
       "  <thead>\n",
       "    <tr style=\"text-align: right;\">\n",
       "      <th></th>\n",
       "      <th>Cantidad de clicks</th>\n",
       "    </tr>\n",
       "    <tr>\n",
       "      <th>Hora</th>\n",
       "      <th></th>\n",
       "    </tr>\n",
       "  </thead>\n",
       "  <tbody>\n",
       "    <tr>\n",
       "      <th>01:34:00</th>\n",
       "      <td>119</td>\n",
       "    </tr>\n",
       "    <tr>\n",
       "      <th>01:37:00</th>\n",
       "      <td>117</td>\n",
       "    </tr>\n",
       "    <tr>\n",
       "      <th>01:30:00</th>\n",
       "      <td>110</td>\n",
       "    </tr>\n",
       "    <tr>\n",
       "      <th>01:36:00</th>\n",
       "      <td>110</td>\n",
       "    </tr>\n",
       "    <tr>\n",
       "      <th>01:38:00</th>\n",
       "      <td>103</td>\n",
       "    </tr>\n",
       "  </tbody>\n",
       "</table>\n",
       "</div>"
      ],
      "text/plain": [
       "          Cantidad de clicks\n",
       "Hora                        \n",
       "01:34:00                 119\n",
       "01:37:00                 117\n",
       "01:30:00                 110\n",
       "01:36:00                 110\n",
       "01:38:00                 103"
      ]
     },
     "execution_count": 56,
     "metadata": {},
     "output_type": "execute_result"
    }
   ],
   "source": [
    "clicks_by_time.sort_values(by='Cantidad de clicks', ascending=False).head()"
   ]
  },
  {
   "cell_type": "markdown",
   "metadata": {},
   "source": [
    "## El rango horario con mayor cantidad de clicks suele ser al rededor de las 01:00 am."
   ]
  }
 ],
 "metadata": {
  "kernelspec": {
   "display_name": "Python 3",
   "language": "python",
   "name": "python3"
  },
  "language_info": {
   "codemirror_mode": {
    "name": "ipython",
    "version": 3
   },
   "file_extension": ".py",
   "mimetype": "text/x-python",
   "name": "python",
   "nbconvert_exporter": "python",
   "pygments_lexer": "ipython3",
   "version": "3.7.1"
  }
 },
 "nbformat": 4,
 "nbformat_minor": 2
}
